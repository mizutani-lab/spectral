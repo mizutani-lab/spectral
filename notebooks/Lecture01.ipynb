{
 "cells": [
  {
   "cell_type": "code",
   "execution_count": 1,
   "id": "d26f4834-3f7b-4614-836f-0bdea37ea469",
   "metadata": {},
   "outputs": [],
   "source": [
    "import numpy as np"
   ]
  },
  {
   "cell_type": "code",
   "execution_count": 2,
   "id": "630dadeb-dcf2-4837-9088-10d2cbf6be7f",
   "metadata": {},
   "outputs": [],
   "source": [
    "B = np.array([\n",
    "    [1, 1, 1, 0, 0],\n",
    "    [1, 0, 0, 1, 0],\n",
    "    [0, 1, 0, 0, 1],\n",
    "    [0, 0, 1, 1, 1],\n",
    "])"
   ]
  },
  {
   "cell_type": "code",
   "execution_count": 3,
   "id": "26ef1fd3-ede7-4ba9-800c-a96530403a01",
   "metadata": {},
   "outputs": [
    {
     "data": {
      "text/plain": [
       "array([[3, 1, 1, 1],\n",
       "       [1, 2, 0, 1],\n",
       "       [1, 0, 2, 1],\n",
       "       [1, 1, 1, 3]])"
      ]
     },
     "execution_count": 3,
     "metadata": {},
     "output_type": "execute_result"
    }
   ],
   "source": [
    "B @ B.T"
   ]
  },
  {
   "cell_type": "code",
   "execution_count": 4,
   "id": "be0edc14-4340-4612-95f9-86a26e782e32",
   "metadata": {},
   "outputs": [
    {
     "data": {
      "text/plain": [
       "array([[2, 1, 1, 1, 0],\n",
       "       [1, 2, 1, 0, 1],\n",
       "       [1, 1, 2, 1, 1],\n",
       "       [1, 0, 1, 2, 1],\n",
       "       [0, 1, 1, 1, 2]])"
      ]
     },
     "execution_count": 4,
     "metadata": {},
     "output_type": "execute_result"
    }
   ],
   "source": [
    "B.T @ B"
   ]
  },
  {
   "cell_type": "markdown",
   "id": "eb02f61f-f919-4c58-8e2a-fefb0c72837a",
   "metadata": {},
   "source": [
    "## Adjacency Matrix"
   ]
  },
  {
   "cell_type": "code",
   "execution_count": 9,
   "id": "7ba3a464-079c-4f1e-be05-ea925cf13486",
   "metadata": {},
   "outputs": [],
   "source": [
    "M = np.array([\n",
    "    [0, 1, 1, 1, 0],\n",
    "    [1, 0, 1, 0, 1],\n",
    "    [1, 1, 0, 1, 1],\n",
    "    [1, 0, 1, 0, 1],\n",
    "    [0, 1, 1, 1, 0],\n",
    "])"
   ]
  },
  {
   "cell_type": "markdown",
   "id": "d2250c73-628a-46af-99f1-9f5dcbec20ad",
   "metadata": {},
   "source": [
    "## Degree Matrix"
   ]
  },
  {
   "cell_type": "code",
   "execution_count": 10,
   "id": "f56f67b7-7764-43d7-91af-dbb7d54a4acf",
   "metadata": {},
   "outputs": [
    {
     "name": "stdout",
     "output_type": "stream",
     "text": [
      "[[3. 0. 0. 0. 0.]\n",
      " [0. 3. 0. 0. 0.]\n",
      " [0. 0. 4. 0. 0.]\n",
      " [0. 0. 0. 3. 0.]\n",
      " [0. 0. 0. 0. 3.]]\n"
     ]
    }
   ],
   "source": [
    "D = np.diag(M @ np.ones(5))\n",
    "print(D)"
   ]
  },
  {
   "cell_type": "markdown",
   "id": "ec136d93-94a9-449e-ba8e-3daf0d439e2a",
   "metadata": {},
   "source": [
    "## Random Walk Matrix"
   ]
  },
  {
   "cell_type": "code",
   "execution_count": 12,
   "id": "02cee329-a19c-4af4-baa8-6649ab104021",
   "metadata": {},
   "outputs": [
    {
     "name": "stdout",
     "output_type": "stream",
     "text": [
      "[[0.         0.33333333 0.25       0.33333333 0.        ]\n",
      " [0.33333333 0.         0.25       0.         0.33333333]\n",
      " [0.33333333 0.33333333 0.         0.33333333 0.33333333]\n",
      " [0.33333333 0.         0.25       0.         0.33333333]\n",
      " [0.         0.33333333 0.25       0.33333333 0.        ]]\n"
     ]
    }
   ],
   "source": [
    "W = M @ np.linalg.inv(D)\n",
    "print(W)"
   ]
  },
  {
   "cell_type": "code",
   "execution_count": 20,
   "id": "d09efdc8-8ed2-4901-93dc-0629729b9076",
   "metadata": {},
   "outputs": [],
   "source": [
    "D2 = np.sqrt(np.array([3, 3, 4, 3, 3]))\n",
    "D2inv = np.diag(1 / D2)\n",
    "D2 = np.diag(D2)"
   ]
  },
  {
   "cell_type": "code",
   "execution_count": 21,
   "id": "6ce37792-1629-4c2b-948c-97fda03d35ac",
   "metadata": {},
   "outputs": [
    {
     "name": "stdout",
     "output_type": "stream",
     "text": [
      "[[0.         0.33333333 0.28867513 0.33333333 0.        ]\n",
      " [0.33333333 0.         0.28867513 0.         0.33333333]\n",
      " [0.28867513 0.28867513 0.         0.28867513 0.28867513]\n",
      " [0.33333333 0.         0.28867513 0.         0.33333333]\n",
      " [0.         0.33333333 0.28867513 0.33333333 0.        ]]\n"
     ]
    }
   ],
   "source": [
    "print(D2inv @ W @ D2)"
   ]
  },
  {
   "cell_type": "code",
   "execution_count": 22,
   "id": "89c54d1e-9718-490a-9e49-b5c1696c6dfe",
   "metadata": {},
   "outputs": [
    {
     "name": "stdout",
     "output_type": "stream",
     "text": [
      "[[0.         0.33333333 0.28867513 0.33333333 0.        ]\n",
      " [0.33333333 0.         0.28867513 0.         0.33333333]\n",
      " [0.28867513 0.28867513 0.         0.28867513 0.28867513]\n",
      " [0.33333333 0.         0.28867513 0.         0.33333333]\n",
      " [0.         0.33333333 0.28867513 0.33333333 0.        ]]\n"
     ]
    }
   ],
   "source": [
    "print(D2inv @ M @ D2inv)"
   ]
  },
  {
   "cell_type": "code",
   "execution_count": null,
   "id": "65fbabe3-e2cd-4bd8-8944-528c1043d367",
   "metadata": {},
   "outputs": [],
   "source": []
  }
 ],
 "metadata": {
  "kernelspec": {
   "display_name": "Python 3 (ipykernel)",
   "language": "python",
   "name": "python3"
  },
  "language_info": {
   "codemirror_mode": {
    "name": "ipython",
    "version": 3
   },
   "file_extension": ".py",
   "mimetype": "text/x-python",
   "name": "python",
   "nbconvert_exporter": "python",
   "pygments_lexer": "ipython3",
   "version": "3.9.12"
  }
 },
 "nbformat": 4,
 "nbformat_minor": 5
}
