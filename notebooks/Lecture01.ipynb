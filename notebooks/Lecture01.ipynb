{
 "cells": [
  {
   "cell_type": "code",
   "execution_count": 1,
   "id": "d26f4834-3f7b-4614-836f-0bdea37ea469",
   "metadata": {},
   "outputs": [],
   "source": [
    "import numpy as np"
   ]
  },
  {
   "cell_type": "code",
   "execution_count": 5,
   "id": "630dadeb-dcf2-4837-9088-10d2cbf6be7f",
   "metadata": {},
   "outputs": [],
   "source": [
    "B = np.array([\n",
    "    [1, 1, 1, 0, 0],\n",
    "    [1, 0, 0, 1, 0],\n",
    "    [0, 1, 0, 0, 1],\n",
    "    [0, 0, 1, 1, 1],\n",
    "])"
   ]
  },
  {
   "cell_type": "code",
   "execution_count": 6,
   "id": "26ef1fd3-ede7-4ba9-800c-a96530403a01",
   "metadata": {},
   "outputs": [
    {
     "data": {
      "text/plain": [
       "array([[3, 1, 1, 1],\n",
       "       [1, 2, 0, 1],\n",
       "       [1, 0, 2, 1],\n",
       "       [1, 1, 1, 3]])"
      ]
     },
     "execution_count": 6,
     "metadata": {},
     "output_type": "execute_result"
    }
   ],
   "source": [
    "B @ B.T"
   ]
  },
  {
   "cell_type": "code",
   "execution_count": 7,
   "id": "be0edc14-4340-4612-95f9-86a26e782e32",
   "metadata": {},
   "outputs": [
    {
     "data": {
      "text/plain": [
       "array([[2, 1, 1, 1, 0],\n",
       "       [1, 2, 1, 0, 1],\n",
       "       [1, 1, 2, 1, 1],\n",
       "       [1, 0, 1, 2, 1],\n",
       "       [0, 1, 1, 1, 2]])"
      ]
     },
     "execution_count": 7,
     "metadata": {},
     "output_type": "execute_result"
    }
   ],
   "source": [
    "B.T @ B"
   ]
  },
  {
   "cell_type": "code",
   "execution_count": null,
   "id": "7ba3a464-079c-4f1e-be05-ea925cf13486",
   "metadata": {},
   "outputs": [],
   "source": []
  }
 ],
 "metadata": {
  "kernelspec": {
   "display_name": "Python 3 (ipykernel)",
   "language": "python",
   "name": "python3"
  },
  "language_info": {
   "codemirror_mode": {
    "name": "ipython",
    "version": 3
   },
   "file_extension": ".py",
   "mimetype": "text/x-python",
   "name": "python",
   "nbconvert_exporter": "python",
   "pygments_lexer": "ipython3",
   "version": "3.9.12"
  }
 },
 "nbformat": 4,
 "nbformat_minor": 5
}
